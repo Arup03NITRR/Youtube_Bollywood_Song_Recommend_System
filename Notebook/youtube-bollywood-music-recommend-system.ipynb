{
 "cells": [
  {
   "cell_type": "markdown",
   "metadata": {},
   "source": [
    "# **Youtube Bollywood Music Recommend System**"
   ]
  },
  {
   "cell_type": "markdown",
   "metadata": {},
   "source": [
    "#### **Importing Dependencies**"
   ]
  },
  {
   "cell_type": "code",
   "execution_count": 220,
   "metadata": {},
   "outputs": [],
   "source": [
    "import numpy as np\n",
    "import pandas as pd\n",
    "from sklearn.feature_extraction.text import CountVectorizer\n",
    "from sklearn.metrics.pairwise import cosine_similarity\n",
    "import pickle"
   ]
  },
  {
   "cell_type": "markdown",
   "metadata": {},
   "source": [
    "#### **Reading the Dataset**"
   ]
  },
  {
   "cell_type": "code",
   "execution_count": 198,
   "metadata": {},
   "outputs": [],
   "source": [
    "songs=pd.read_csv('../Dataset/Bollywood-Songs-Dataset(2017-23).csv')"
   ]
  },
  {
   "cell_type": "code",
   "execution_count": 199,
   "metadata": {},
   "outputs": [
    {
     "data": {
      "text/html": [
       "<div>\n",
       "<style scoped>\n",
       "    .dataframe tbody tr th:only-of-type {\n",
       "        vertical-align: middle;\n",
       "    }\n",
       "\n",
       "    .dataframe tbody tr th {\n",
       "        vertical-align: top;\n",
       "    }\n",
       "\n",
       "    .dataframe thead th {\n",
       "        text-align: right;\n",
       "    }\n",
       "</style>\n",
       "<table border=\"1\" class=\"dataframe\">\n",
       "  <thead>\n",
       "    <tr style=\"text-align: right;\">\n",
       "      <th></th>\n",
       "      <th>music_name</th>\n",
       "      <th>singer</th>\n",
       "      <th>release</th>\n",
       "      <th>lyrics</th>\n",
       "      <th>thumbnail</th>\n",
       "    </tr>\n",
       "  </thead>\n",
       "  <tbody>\n",
       "    <tr>\n",
       "      <th>0</th>\n",
       "      <td>Ek Haseena Thi Ek Deewana Tha</td>\n",
       "      <td>Yasser Desai</td>\n",
       "      <td>2017</td>\n",
       "      <td>Ek haseena thi ek deewana tha Kya kahun tumse ...</td>\n",
       "      <td>https://i.ytimg.com/vi/6obiArkHwAk/hqdefault.jpg</td>\n",
       "    </tr>\n",
       "    <tr>\n",
       "      <th>1</th>\n",
       "      <td>Hue Bechain</td>\n",
       "      <td>Palak Muchhal, Yasser Desai</td>\n",
       "      <td>2017</td>\n",
       "      <td>Hue bechain pehli bar hmny raaz ye jana Mohabb...</td>\n",
       "      <td>https://i.ytimg.com/vi/6obiArkHwAk/hqdefault.jpg</td>\n",
       "    </tr>\n",
       "    <tr>\n",
       "      <th>2</th>\n",
       "      <td>Hanste Hanste</td>\n",
       "      <td>Palak Muchhal, Yasser Desai</td>\n",
       "      <td>2017</td>\n",
       "      <td>Hanste hanste ro diye tum Kis mushkil mein kho...</td>\n",
       "      <td>https://i.ytimg.com/vi/rVKX19fNV0A/hqdefault.jpg</td>\n",
       "    </tr>\n",
       "    <tr>\n",
       "      <th>3</th>\n",
       "      <td>Nain</td>\n",
       "      <td>Palak Muchhal, Yasser Desai</td>\n",
       "      <td>2017</td>\n",
       "      <td>Kuchh sawaal pyar ke lab pe hai ruke ruke Jaad...</td>\n",
       "      <td>https://i.ytimg.com/vi/ZHbbcy7u9Rk/hqdefault.jpg</td>\n",
       "    </tr>\n",
       "    <tr>\n",
       "      <th>4</th>\n",
       "      <td>Aankhon Mein Aansoon</td>\n",
       "      <td>Palak Muchhal, Yasser Desai</td>\n",
       "      <td>2017</td>\n",
       "      <td>Aankhon mein aansoo leke hoton se muskuraye Aa...</td>\n",
       "      <td>https://i.ytimg.com/vi/izP81UySf0Y/hqdefault.jpg</td>\n",
       "    </tr>\n",
       "  </tbody>\n",
       "</table>\n",
       "</div>"
      ],
      "text/plain": [
       "                      music_name                       singer  release  \\\n",
       "0  Ek Haseena Thi Ek Deewana Tha                 Yasser Desai     2017   \n",
       "1                    Hue Bechain  Palak Muchhal, Yasser Desai     2017   \n",
       "2                  Hanste Hanste  Palak Muchhal, Yasser Desai     2017   \n",
       "3                           Nain  Palak Muchhal, Yasser Desai     2017   \n",
       "4           Aankhon Mein Aansoon  Palak Muchhal, Yasser Desai     2017   \n",
       "\n",
       "                                              lyrics  \\\n",
       "0  Ek haseena thi ek deewana tha Kya kahun tumse ...   \n",
       "1  Hue bechain pehli bar hmny raaz ye jana Mohabb...   \n",
       "2  Hanste hanste ro diye tum Kis mushkil mein kho...   \n",
       "3  Kuchh sawaal pyar ke lab pe hai ruke ruke Jaad...   \n",
       "4  Aankhon mein aansoo leke hoton se muskuraye Aa...   \n",
       "\n",
       "                                          thumbnail  \n",
       "0  https://i.ytimg.com/vi/6obiArkHwAk/hqdefault.jpg  \n",
       "1  https://i.ytimg.com/vi/6obiArkHwAk/hqdefault.jpg  \n",
       "2  https://i.ytimg.com/vi/rVKX19fNV0A/hqdefault.jpg  \n",
       "3  https://i.ytimg.com/vi/ZHbbcy7u9Rk/hqdefault.jpg  \n",
       "4  https://i.ytimg.com/vi/izP81UySf0Y/hqdefault.jpg  "
      ]
     },
     "execution_count": 199,
     "metadata": {},
     "output_type": "execute_result"
    }
   ],
   "source": [
    "songs.head()"
   ]
  },
  {
   "cell_type": "markdown",
   "metadata": {},
   "source": [
    "#### **Data Preprocessing**"
   ]
  },
  {
   "cell_type": "code",
   "execution_count": 200,
   "metadata": {},
   "outputs": [
    {
     "name": "stdout",
     "output_type": "stream",
     "text": [
      "<class 'pandas.core.frame.DataFrame'>\n",
      "RangeIndex: 974 entries, 0 to 973\n",
      "Data columns (total 5 columns):\n",
      " #   Column      Non-Null Count  Dtype \n",
      "---  ------      --------------  ----- \n",
      " 0   music_name  974 non-null    object\n",
      " 1   singer      974 non-null    object\n",
      " 2   release     974 non-null    int64 \n",
      " 3   lyrics      974 non-null    object\n",
      " 4   thumbnail   974 non-null    object\n",
      "dtypes: int64(1), object(4)\n",
      "memory usage: 38.2+ KB\n"
     ]
    }
   ],
   "source": [
    "songs.info()"
   ]
  },
  {
   "cell_type": "code",
   "execution_count": 201,
   "metadata": {},
   "outputs": [
    {
     "data": {
      "text/plain": [
       "release\n",
       "2018    242\n",
       "2019    200\n",
       "2022    156\n",
       "2020    133\n",
       "2021    125\n",
       "2023     51\n",
       "2017     47\n",
       "2014      2\n",
       "1998      2\n",
       "2009      2\n",
       "2010      2\n",
       "2006      1\n",
       "2003      1\n",
       "2000      1\n",
       "2008      1\n",
       "2015      1\n",
       "2007      1\n",
       "2012      1\n",
       "1969      1\n",
       "1986      1\n",
       "1992      1\n",
       "1971      1\n",
       "1999      1\n",
       "Name: count, dtype: int64"
      ]
     },
     "execution_count": 201,
     "metadata": {},
     "output_type": "execute_result"
    }
   ],
   "source": [
    "songs['release'].value_counts()"
   ]
  },
  {
   "cell_type": "code",
   "execution_count": 202,
   "metadata": {},
   "outputs": [
    {
     "data": {
      "text/plain": [
       "music_name    0\n",
       "singer        0\n",
       "release       0\n",
       "lyrics        0\n",
       "thumbnail     0\n",
       "dtype: int64"
      ]
     },
     "execution_count": 202,
     "metadata": {},
     "output_type": "execute_result"
    }
   ],
   "source": [
    "#Checking for Null values\n",
    "songs.isna().sum()"
   ]
  },
  {
   "cell_type": "code",
   "execution_count": 203,
   "metadata": {},
   "outputs": [
    {
     "data": {
      "text/plain": [
       "0"
      ]
     },
     "execution_count": 203,
     "metadata": {},
     "output_type": "execute_result"
    }
   ],
   "source": [
    "#Checking for duplicate values\n",
    "songs.duplicated().sum()"
   ]
  },
  {
   "cell_type": "code",
   "execution_count": 204,
   "metadata": {},
   "outputs": [],
   "source": [
    "#copy dataset into another variable\n",
    "songs_modified=songs.iloc[:,:]"
   ]
  },
  {
   "cell_type": "code",
   "execution_count": 205,
   "metadata": {},
   "outputs": [
    {
     "data": {
      "text/html": [
       "<div>\n",
       "<style scoped>\n",
       "    .dataframe tbody tr th:only-of-type {\n",
       "        vertical-align: middle;\n",
       "    }\n",
       "\n",
       "    .dataframe tbody tr th {\n",
       "        vertical-align: top;\n",
       "    }\n",
       "\n",
       "    .dataframe thead th {\n",
       "        text-align: right;\n",
       "    }\n",
       "</style>\n",
       "<table border=\"1\" class=\"dataframe\">\n",
       "  <thead>\n",
       "    <tr style=\"text-align: right;\">\n",
       "      <th></th>\n",
       "      <th>music_name</th>\n",
       "      <th>singer</th>\n",
       "      <th>release</th>\n",
       "      <th>lyrics</th>\n",
       "      <th>thumbnail</th>\n",
       "    </tr>\n",
       "  </thead>\n",
       "  <tbody>\n",
       "    <tr>\n",
       "      <th>0</th>\n",
       "      <td>Ek Haseena Thi Ek Deewana Tha</td>\n",
       "      <td>Yasser Desai</td>\n",
       "      <td>2017</td>\n",
       "      <td>Ek haseena thi ek deewana tha Kya kahun tumse ...</td>\n",
       "      <td>https://i.ytimg.com/vi/6obiArkHwAk/hqdefault.jpg</td>\n",
       "    </tr>\n",
       "    <tr>\n",
       "      <th>1</th>\n",
       "      <td>Hue Bechain</td>\n",
       "      <td>Palak Muchhal, Yasser Desai</td>\n",
       "      <td>2017</td>\n",
       "      <td>Hue bechain pehli bar hmny raaz ye jana Mohabb...</td>\n",
       "      <td>https://i.ytimg.com/vi/6obiArkHwAk/hqdefault.jpg</td>\n",
       "    </tr>\n",
       "    <tr>\n",
       "      <th>2</th>\n",
       "      <td>Hanste Hanste</td>\n",
       "      <td>Palak Muchhal, Yasser Desai</td>\n",
       "      <td>2017</td>\n",
       "      <td>Hanste hanste ro diye tum Kis mushkil mein kho...</td>\n",
       "      <td>https://i.ytimg.com/vi/rVKX19fNV0A/hqdefault.jpg</td>\n",
       "    </tr>\n",
       "    <tr>\n",
       "      <th>3</th>\n",
       "      <td>Nain</td>\n",
       "      <td>Palak Muchhal, Yasser Desai</td>\n",
       "      <td>2017</td>\n",
       "      <td>Kuchh sawaal pyar ke lab pe hai ruke ruke Jaad...</td>\n",
       "      <td>https://i.ytimg.com/vi/ZHbbcy7u9Rk/hqdefault.jpg</td>\n",
       "    </tr>\n",
       "    <tr>\n",
       "      <th>4</th>\n",
       "      <td>Aankhon Mein Aansoon</td>\n",
       "      <td>Palak Muchhal, Yasser Desai</td>\n",
       "      <td>2017</td>\n",
       "      <td>Aankhon mein aansoo leke hoton se muskuraye Aa...</td>\n",
       "      <td>https://i.ytimg.com/vi/izP81UySf0Y/hqdefault.jpg</td>\n",
       "    </tr>\n",
       "  </tbody>\n",
       "</table>\n",
       "</div>"
      ],
      "text/plain": [
       "                      music_name                       singer  release  \\\n",
       "0  Ek Haseena Thi Ek Deewana Tha                 Yasser Desai     2017   \n",
       "1                    Hue Bechain  Palak Muchhal, Yasser Desai     2017   \n",
       "2                  Hanste Hanste  Palak Muchhal, Yasser Desai     2017   \n",
       "3                           Nain  Palak Muchhal, Yasser Desai     2017   \n",
       "4           Aankhon Mein Aansoon  Palak Muchhal, Yasser Desai     2017   \n",
       "\n",
       "                                              lyrics  \\\n",
       "0  Ek haseena thi ek deewana tha Kya kahun tumse ...   \n",
       "1  Hue bechain pehli bar hmny raaz ye jana Mohabb...   \n",
       "2  Hanste hanste ro diye tum Kis mushkil mein kho...   \n",
       "3  Kuchh sawaal pyar ke lab pe hai ruke ruke Jaad...   \n",
       "4  Aankhon mein aansoo leke hoton se muskuraye Aa...   \n",
       "\n",
       "                                          thumbnail  \n",
       "0  https://i.ytimg.com/vi/6obiArkHwAk/hqdefault.jpg  \n",
       "1  https://i.ytimg.com/vi/6obiArkHwAk/hqdefault.jpg  \n",
       "2  https://i.ytimg.com/vi/rVKX19fNV0A/hqdefault.jpg  \n",
       "3  https://i.ytimg.com/vi/ZHbbcy7u9Rk/hqdefault.jpg  \n",
       "4  https://i.ytimg.com/vi/izP81UySf0Y/hqdefault.jpg  "
      ]
     },
     "execution_count": 205,
     "metadata": {},
     "output_type": "execute_result"
    }
   ],
   "source": [
    "songs_modified.head()"
   ]
  },
  {
   "cell_type": "code",
   "execution_count": 206,
   "metadata": {},
   "outputs": [],
   "source": [
    "#converting release and singer into list and combine them\n",
    "songs_modified['singer']=songs_modified['singer'].apply(lambda x: x.split(','))\n",
    "songs_modified['release']=songs_modified['release'].apply(lambda x: str(x).split(','))\n",
    "\n",
    "songs_modified['tags']=songs_modified['singer']+songs_modified['release']\n",
    "songs_modified['tags']=songs_modified['tags'].apply(lambda x: ' '.join(x))"
   ]
  },
  {
   "cell_type": "code",
   "execution_count": 207,
   "metadata": {},
   "outputs": [
    {
     "data": {
      "text/html": [
       "<div>\n",
       "<style scoped>\n",
       "    .dataframe tbody tr th:only-of-type {\n",
       "        vertical-align: middle;\n",
       "    }\n",
       "\n",
       "    .dataframe tbody tr th {\n",
       "        vertical-align: top;\n",
       "    }\n",
       "\n",
       "    .dataframe thead th {\n",
       "        text-align: right;\n",
       "    }\n",
       "</style>\n",
       "<table border=\"1\" class=\"dataframe\">\n",
       "  <thead>\n",
       "    <tr style=\"text-align: right;\">\n",
       "      <th></th>\n",
       "      <th>music_name</th>\n",
       "      <th>singer</th>\n",
       "      <th>release</th>\n",
       "      <th>lyrics</th>\n",
       "      <th>thumbnail</th>\n",
       "      <th>tags</th>\n",
       "    </tr>\n",
       "  </thead>\n",
       "  <tbody>\n",
       "    <tr>\n",
       "      <th>470</th>\n",
       "      <td>Akhiyaan Milavanga</td>\n",
       "      <td>[Arijit Singh,  Sruthy Sasidharan]</td>\n",
       "      <td>[2019]</td>\n",
       "      <td>Ho sadde kol beh ja mere dil da tu haal sun le...</td>\n",
       "      <td>https://i.ytimg.com/vi/O9zBPcU5g60/hqdefault.jpg</td>\n",
       "      <td>Arijit Singh  Sruthy Sasidharan 2019</td>\n",
       "    </tr>\n",
       "  </tbody>\n",
       "</table>\n",
       "</div>"
      ],
      "text/plain": [
       "             music_name                              singer release  \\\n",
       "470  Akhiyaan Milavanga  [Arijit Singh,  Sruthy Sasidharan]  [2019]   \n",
       "\n",
       "                                                lyrics  \\\n",
       "470  Ho sadde kol beh ja mere dil da tu haal sun le...   \n",
       "\n",
       "                                            thumbnail  \\\n",
       "470  https://i.ytimg.com/vi/O9zBPcU5g60/hqdefault.jpg   \n",
       "\n",
       "                                     tags  \n",
       "470  Arijit Singh  Sruthy Sasidharan 2019  "
      ]
     },
     "execution_count": 207,
     "metadata": {},
     "output_type": "execute_result"
    }
   ],
   "source": [
    "songs_modified.sample()"
   ]
  },
  {
   "cell_type": "code",
   "execution_count": 208,
   "metadata": {},
   "outputs": [],
   "source": [
    "#dropping singer release and lyrics\n",
    "songs_modified.drop(columns=['singer', 'release', 'lyrics'], inplace=True)"
   ]
  },
  {
   "cell_type": "code",
   "execution_count": 209,
   "metadata": {},
   "outputs": [
    {
     "data": {
      "text/html": [
       "<div>\n",
       "<style scoped>\n",
       "    .dataframe tbody tr th:only-of-type {\n",
       "        vertical-align: middle;\n",
       "    }\n",
       "\n",
       "    .dataframe tbody tr th {\n",
       "        vertical-align: top;\n",
       "    }\n",
       "\n",
       "    .dataframe thead th {\n",
       "        text-align: right;\n",
       "    }\n",
       "</style>\n",
       "<table border=\"1\" class=\"dataframe\">\n",
       "  <thead>\n",
       "    <tr style=\"text-align: right;\">\n",
       "      <th></th>\n",
       "      <th>music_name</th>\n",
       "      <th>thumbnail</th>\n",
       "      <th>tags</th>\n",
       "    </tr>\n",
       "  </thead>\n",
       "  <tbody>\n",
       "    <tr>\n",
       "      <th>814</th>\n",
       "      <td>Ji Huzoor</td>\n",
       "      <td>https://i.ytimg.com/vi/FwH4ruvzjxQ/hqdefault.jpg</td>\n",
       "      <td>Aditya Narayan 2022</td>\n",
       "    </tr>\n",
       "    <tr>\n",
       "      <th>870</th>\n",
       "      <td>Thaar Maar Thakkar Maar</td>\n",
       "      <td>https://i.ytimg.com/vi/QA0HMPwQfMA/hqdefault.jpg</td>\n",
       "      <td>Shreya Goshal 2022</td>\n",
       "    </tr>\n",
       "    <tr>\n",
       "      <th>917</th>\n",
       "      <td>Khairiyat</td>\n",
       "      <td>https://i.ytimg.com/vi/qTAegUy7mo4/hqdefault.jpg</td>\n",
       "      <td>Arijit Singh  Mithoon 2023</td>\n",
       "    </tr>\n",
       "    <tr>\n",
       "      <th>776</th>\n",
       "      <td>Dholna Ve Dholna</td>\n",
       "      <td>https://i.ytimg.com/vi/FUBhMm5jL_A/hqdefault.jpg</td>\n",
       "      <td>Raj Ranjodh 2022</td>\n",
       "    </tr>\n",
       "    <tr>\n",
       "      <th>158</th>\n",
       "      <td>Holi Biraj Ma</td>\n",
       "      <td>https://i.ytimg.com/vi/2tL1xaMhKD4/hqdefault.jpg</td>\n",
       "      <td>Jubin Nautiyal 2018</td>\n",
       "    </tr>\n",
       "  </tbody>\n",
       "</table>\n",
       "</div>"
      ],
      "text/plain": [
       "                  music_name  \\\n",
       "814                Ji Huzoor   \n",
       "870  Thaar Maar Thakkar Maar   \n",
       "917                Khairiyat   \n",
       "776         Dholna Ve Dholna   \n",
       "158            Holi Biraj Ma   \n",
       "\n",
       "                                            thumbnail  \\\n",
       "814  https://i.ytimg.com/vi/FwH4ruvzjxQ/hqdefault.jpg   \n",
       "870  https://i.ytimg.com/vi/QA0HMPwQfMA/hqdefault.jpg   \n",
       "917  https://i.ytimg.com/vi/qTAegUy7mo4/hqdefault.jpg   \n",
       "776  https://i.ytimg.com/vi/FUBhMm5jL_A/hqdefault.jpg   \n",
       "158  https://i.ytimg.com/vi/2tL1xaMhKD4/hqdefault.jpg   \n",
       "\n",
       "                           tags  \n",
       "814         Aditya Narayan 2022  \n",
       "870          Shreya Goshal 2022  \n",
       "917  Arijit Singh  Mithoon 2023  \n",
       "776            Raj Ranjodh 2022  \n",
       "158         Jubin Nautiyal 2018  "
      ]
     },
     "execution_count": 209,
     "metadata": {},
     "output_type": "execute_result"
    }
   ],
   "source": [
    "songs_modified.sample(5)"
   ]
  },
  {
   "cell_type": "markdown",
   "metadata": {},
   "source": [
    "#### **Text Processing**"
   ]
  },
  {
   "cell_type": "code",
   "execution_count": 210,
   "metadata": {},
   "outputs": [],
   "source": [
    "#convert to lower case\n",
    "songs_modified['tags']=songs_modified['tags'].apply(lambda x: x.lower())\n"
   ]
  },
  {
   "cell_type": "code",
   "execution_count": 211,
   "metadata": {},
   "outputs": [
    {
     "data": {
      "text/html": [
       "<div>\n",
       "<style scoped>\n",
       "    .dataframe tbody tr th:only-of-type {\n",
       "        vertical-align: middle;\n",
       "    }\n",
       "\n",
       "    .dataframe tbody tr th {\n",
       "        vertical-align: top;\n",
       "    }\n",
       "\n",
       "    .dataframe thead th {\n",
       "        text-align: right;\n",
       "    }\n",
       "</style>\n",
       "<table border=\"1\" class=\"dataframe\">\n",
       "  <thead>\n",
       "    <tr style=\"text-align: right;\">\n",
       "      <th></th>\n",
       "      <th>music_name</th>\n",
       "      <th>thumbnail</th>\n",
       "      <th>tags</th>\n",
       "    </tr>\n",
       "  </thead>\n",
       "  <tbody>\n",
       "    <tr>\n",
       "      <th>65</th>\n",
       "      <td>Sehmi Hai Dhadkan</td>\n",
       "      <td>https://i.ytimg.com/vi/6BxjYvg9KMw/hqdefault.jpg</td>\n",
       "      <td>atif aslam 2018</td>\n",
       "    </tr>\n",
       "    <tr>\n",
       "      <th>237</th>\n",
       "      <td>Yaadon Ki Almari</td>\n",
       "      <td>https://i.ytimg.com/vi/4EfOdE4GjYU/hqdefault.jpg</td>\n",
       "      <td>palomi ghosh 2018</td>\n",
       "    </tr>\n",
       "    <tr>\n",
       "      <th>841</th>\n",
       "      <td>Saathiya</td>\n",
       "      <td>https://i.ytimg.com/vi/X0Akv2AYvbw/hqdefault.jpg</td>\n",
       "      <td>zahrah s. khan  nikhil d'souza 2022</td>\n",
       "    </tr>\n",
       "  </tbody>\n",
       "</table>\n",
       "</div>"
      ],
      "text/plain": [
       "            music_name                                         thumbnail  \\\n",
       "65   Sehmi Hai Dhadkan  https://i.ytimg.com/vi/6BxjYvg9KMw/hqdefault.jpg   \n",
       "237   Yaadon Ki Almari  https://i.ytimg.com/vi/4EfOdE4GjYU/hqdefault.jpg   \n",
       "841           Saathiya  https://i.ytimg.com/vi/X0Akv2AYvbw/hqdefault.jpg   \n",
       "\n",
       "                                    tags  \n",
       "65                       atif aslam 2018  \n",
       "237                    palomi ghosh 2018  \n",
       "841  zahrah s. khan  nikhil d'souza 2022  "
      ]
     },
     "execution_count": 211,
     "metadata": {},
     "output_type": "execute_result"
    }
   ],
   "source": [
    "songs_modified.sample(3)"
   ]
  },
  {
   "cell_type": "code",
   "execution_count": 212,
   "metadata": {},
   "outputs": [],
   "source": [
    "#vectorization\n",
    "cv=CountVectorizer()\n",
    "vector=cv.fit_transform(songs_modified['tags']).toarray()"
   ]
  },
  {
   "cell_type": "code",
   "execution_count": 213,
   "metadata": {},
   "outputs": [
    {
     "data": {
      "text/plain": [
       "(974, 840)"
      ]
     },
     "execution_count": 213,
     "metadata": {},
     "output_type": "execute_result"
    }
   ],
   "source": [
    "vector.shape"
   ]
  },
  {
   "cell_type": "markdown",
   "metadata": {},
   "source": [
    "#### **Calculating Cosine Similarity**"
   ]
  },
  {
   "cell_type": "code",
   "execution_count": 214,
   "metadata": {},
   "outputs": [],
   "source": [
    "similarity=cosine_similarity(vector)"
   ]
  },
  {
   "cell_type": "code",
   "execution_count": 215,
   "metadata": {},
   "outputs": [
    {
     "data": {
      "text/plain": [
       "array([0.77459667, 1.        , 1.        , 1.        , 1.        ,\n",
       "       1.        , 0.16903085, 0.25819889, 0.25819889, 0.13483997,\n",
       "       0.25819889, 0.25819889, 0.25819889, 0.25819889, 0.25819889,\n",
       "       0.25819889, 0.25819889, 0.25819889, 0.2       , 0.31622777,\n",
       "       0.25819889, 0.16903085, 0.6       , 0.25819889, 0.6       ,\n",
       "       0.25819889, 0.25819889, 0.25819889, 0.25819889, 0.2       ,\n",
       "       0.25819889, 0.25819889, 0.47434165, 0.1490712 , 0.2236068 ,\n",
       "       0.25819889, 0.25819889, 0.16903085, 0.31622777, 0.31622777,\n",
       "       0.2       , 0.25819889, 0.25819889, 0.25819889, 0.25819889,\n",
       "       0.25819889, 0.        , 0.        , 0.        , 0.        ,\n",
       "       0.        , 0.        , 0.        , 0.        , 0.        ,\n",
       "       0.        , 0.        , 0.4       , 0.        , 0.        ,\n",
       "       0.        , 0.        , 0.        , 0.        , 0.        ,\n",
       "       0.        , 0.        , 0.        , 0.        , 0.        ,\n",
       "       0.        , 0.        , 0.        , 0.        , 0.        ,\n",
       "       0.        , 0.        , 0.        , 0.        , 0.        ,\n",
       "       0.        , 0.        , 0.        , 0.        , 0.        ,\n",
       "       0.        , 0.        , 0.        , 0.        , 0.        ,\n",
       "       0.        , 0.        , 0.        , 0.        , 0.        ,\n",
       "       0.        , 0.        , 0.        , 0.        , 0.        ,\n",
       "       0.        , 0.        , 0.        , 0.51639778, 0.        ,\n",
       "       0.        , 0.        , 0.51639778, 0.        , 0.        ,\n",
       "       0.        , 0.        , 0.        , 0.        , 0.        ,\n",
       "       0.        , 0.        , 0.        , 0.        , 0.        ,\n",
       "       0.        , 0.        , 0.        , 0.        , 0.        ,\n",
       "       0.        , 0.        , 0.        , 0.        , 0.        ,\n",
       "       0.        , 0.        , 0.        , 0.        , 0.        ,\n",
       "       0.        , 0.        , 0.        , 0.        , 0.        ,\n",
       "       0.        , 0.        , 0.        , 0.        , 0.        ,\n",
       "       0.        , 0.        , 0.        , 0.        , 0.        ,\n",
       "       0.        , 0.        , 0.25819889, 0.        , 0.        ,\n",
       "       0.        , 0.        , 0.        , 0.        , 0.        ,\n",
       "       0.        , 0.        , 0.        , 0.        , 0.        ,\n",
       "       0.        , 0.        , 0.        , 0.        , 0.        ,\n",
       "       0.        , 0.        , 0.        , 0.        , 0.        ,\n",
       "       0.        , 0.        , 0.        , 0.        , 0.        ,\n",
       "       0.        , 0.        , 0.        , 0.        , 0.        ,\n",
       "       0.        , 0.        , 0.        , 0.        , 0.        ,\n",
       "       0.        , 0.        , 0.        , 0.        , 0.        ,\n",
       "       0.        , 0.        , 0.        , 0.        , 0.        ,\n",
       "       0.        , 0.        , 0.        , 0.        , 0.        ,\n",
       "       0.        , 0.        , 0.        , 0.        , 0.        ,\n",
       "       0.        , 0.        , 0.        , 0.        , 0.        ,\n",
       "       0.        , 0.        , 0.        , 0.        , 0.        ,\n",
       "       0.        , 0.        , 0.        , 0.        , 0.        ,\n",
       "       0.        , 0.        , 0.        , 0.        , 0.        ,\n",
       "       0.        , 0.        , 0.        , 0.        , 0.        ,\n",
       "       0.        , 0.        , 0.        , 0.        , 0.        ,\n",
       "       0.        , 0.        , 0.        , 0.        , 0.        ,\n",
       "       0.        , 0.        , 0.        , 0.        , 0.4       ,\n",
       "       0.4       , 0.        , 0.        , 0.4       , 0.        ,\n",
       "       0.        , 0.        , 0.        , 0.        , 0.        ,\n",
       "       0.        , 0.        , 0.        , 0.        , 0.        ,\n",
       "       0.        , 0.        , 0.        , 0.        , 0.        ,\n",
       "       0.        , 0.        , 0.        , 0.        , 0.        ,\n",
       "       0.        , 0.        , 0.        , 0.        , 0.        ,\n",
       "       0.        , 0.        , 0.        , 0.        , 0.        ,\n",
       "       0.        , 0.4       , 0.        , 0.        , 0.        ,\n",
       "       0.        , 0.        , 0.        , 0.        , 0.        ,\n",
       "       0.        , 0.        , 0.        , 0.        , 0.        ,\n",
       "       0.        , 0.        , 0.        , 0.        , 0.        ,\n",
       "       0.        , 0.        , 0.        , 0.        , 0.        ,\n",
       "       0.        , 0.        , 0.        , 0.        , 0.        ,\n",
       "       0.        , 0.        , 0.        , 0.        , 0.        ,\n",
       "       0.        , 0.        , 0.        , 0.        , 0.        ,\n",
       "       0.        , 0.        , 0.        , 0.        , 0.        ,\n",
       "       0.        , 0.        , 0.        , 0.        , 0.        ,\n",
       "       0.        , 0.        , 0.        , 0.        , 0.        ,\n",
       "       0.        , 0.        , 0.        , 0.        , 0.        ,\n",
       "       0.        , 0.        , 0.        , 0.        , 0.        ,\n",
       "       0.        , 0.        , 0.        , 0.        , 0.        ,\n",
       "       0.        , 0.        , 0.        , 0.        , 0.        ,\n",
       "       0.        , 0.        , 0.        , 0.        , 0.        ,\n",
       "       0.        , 0.        , 0.        , 0.        , 0.        ,\n",
       "       0.        , 0.        , 0.        , 0.        , 0.        ,\n",
       "       0.        , 0.        , 0.        , 0.        , 0.        ,\n",
       "       0.        , 0.        , 0.        , 0.        , 0.        ,\n",
       "       0.        , 0.        , 0.        , 0.        , 0.        ,\n",
       "       0.        , 0.        , 0.        , 0.        , 0.        ,\n",
       "       0.        , 0.        , 0.        , 0.        , 0.        ,\n",
       "       0.        , 0.        , 0.4       , 0.        , 0.        ,\n",
       "       0.        , 0.        , 0.        , 0.        , 0.        ,\n",
       "       0.        , 0.        , 0.        , 0.        , 0.        ,\n",
       "       0.        , 0.        , 0.        , 0.        , 0.        ,\n",
       "       0.        , 0.        , 0.        , 0.        , 0.        ,\n",
       "       0.        , 0.        , 0.        , 0.        , 0.        ,\n",
       "       0.        , 0.        , 0.        , 0.        , 0.        ,\n",
       "       0.25819889, 0.        , 0.        , 0.        , 0.        ,\n",
       "       0.        , 0.        , 0.        , 0.        , 0.51639778,\n",
       "       0.        , 0.        , 0.        , 0.        , 0.        ,\n",
       "       0.        , 0.        , 0.        , 0.3380617 , 0.        ,\n",
       "       0.        , 0.        , 0.        , 0.        , 0.        ,\n",
       "       0.        , 0.        , 0.        , 0.        , 0.        ,\n",
       "       0.        , 0.        , 0.        , 0.        , 0.        ,\n",
       "       0.        , 0.        , 0.        , 0.        , 0.        ,\n",
       "       0.        , 0.        , 0.        , 0.        , 0.        ,\n",
       "       0.        , 0.        , 0.        , 0.        , 0.        ,\n",
       "       0.        , 0.        , 0.        , 0.        , 0.        ,\n",
       "       0.        , 0.        , 0.        , 0.        , 0.        ,\n",
       "       0.        , 0.        , 0.        , 0.        , 0.        ,\n",
       "       0.        , 0.        , 0.        , 0.        , 0.        ,\n",
       "       0.        , 0.        , 0.        , 0.        , 0.        ,\n",
       "       0.        , 0.        , 0.        , 0.        , 0.        ,\n",
       "       0.        , 0.        , 0.        , 0.        , 0.        ,\n",
       "       0.        , 0.        , 0.        , 0.        , 0.        ,\n",
       "       0.        , 0.51639778, 0.        , 0.        , 0.51639778,\n",
       "       0.51639778, 0.        , 0.        , 0.        , 0.        ,\n",
       "       0.        , 0.        , 0.        , 0.        , 0.        ,\n",
       "       0.        , 0.        , 0.        , 0.        , 0.        ,\n",
       "       0.        , 0.        , 0.        , 0.        , 0.        ,\n",
       "       0.        , 0.        , 0.        , 0.        , 0.        ,\n",
       "       0.        , 0.        , 0.        , 0.        , 0.        ,\n",
       "       0.        , 0.        , 0.        , 0.4       , 0.        ,\n",
       "       0.        , 0.        , 0.        , 0.        , 0.        ,\n",
       "       0.        , 0.        , 0.        , 0.        , 0.        ,\n",
       "       0.        , 0.        , 0.        , 0.        , 0.        ,\n",
       "       0.        , 0.        , 0.        , 0.        , 0.        ,\n",
       "       0.        , 0.        , 0.        , 0.        , 0.        ,\n",
       "       0.        , 0.        , 0.        , 0.        , 0.        ,\n",
       "       0.        , 0.        , 0.        , 0.        , 0.        ,\n",
       "       0.        , 0.        , 0.        , 0.        , 0.        ,\n",
       "       0.        , 0.        , 0.        , 0.        , 0.        ,\n",
       "       0.        , 0.        , 0.        , 0.        , 0.        ,\n",
       "       0.        , 0.        , 0.        , 0.        , 0.        ,\n",
       "       0.        , 0.        , 0.        , 0.51639778, 0.        ,\n",
       "       0.        , 0.        , 0.        , 0.        , 0.        ,\n",
       "       0.        , 0.        , 0.        , 0.        , 0.        ,\n",
       "       0.        , 0.        , 0.        , 0.        , 0.        ,\n",
       "       0.        , 0.        , 0.        , 0.        , 0.        ,\n",
       "       0.        , 0.        , 0.        , 0.        , 0.        ,\n",
       "       0.        , 0.        , 0.        , 0.        , 0.        ,\n",
       "       0.51639778, 0.        , 0.        , 0.        , 0.        ,\n",
       "       0.        , 0.        , 0.51639778, 0.        , 0.        ,\n",
       "       0.        , 0.        , 0.        , 0.        , 0.        ,\n",
       "       0.        , 0.        , 0.        , 0.        , 0.        ,\n",
       "       0.        , 0.        , 0.        , 0.        , 0.        ,\n",
       "       0.        , 0.        , 0.        , 0.        , 0.        ,\n",
       "       0.        , 0.        , 0.        , 0.        , 0.        ,\n",
       "       0.        , 0.        , 0.        , 0.        , 0.        ,\n",
       "       0.        , 0.        , 0.        , 0.        , 0.        ,\n",
       "       0.        , 0.        , 0.        , 0.        , 0.        ,\n",
       "       0.        , 0.        , 0.        , 0.        , 0.        ,\n",
       "       0.        , 0.        , 0.        , 0.        , 0.        ,\n",
       "       0.        , 0.        , 0.        , 0.        , 0.        ,\n",
       "       0.        , 0.        , 0.        , 0.        , 0.        ,\n",
       "       0.        , 0.        , 0.        , 0.        , 0.        ,\n",
       "       0.        , 0.        , 0.        , 0.        , 0.        ,\n",
       "       0.        , 0.        , 0.        , 0.        , 0.        ,\n",
       "       0.        , 0.        , 0.        , 0.        , 0.        ,\n",
       "       0.        , 0.        , 0.        , 0.        , 0.        ,\n",
       "       0.        , 0.        , 0.        , 0.        , 0.        ,\n",
       "       0.        , 0.        , 0.        , 0.        , 0.        ,\n",
       "       0.        , 0.        , 0.        , 0.        , 0.        ,\n",
       "       0.        , 0.        , 0.        , 0.        , 0.        ,\n",
       "       0.        , 0.        , 0.        , 0.        , 0.        ,\n",
       "       0.        , 0.        , 0.        , 0.        , 0.        ,\n",
       "       0.        , 0.        , 0.        , 0.4       , 0.        ,\n",
       "       0.        , 0.        , 0.        , 0.        , 0.        ,\n",
       "       0.        , 0.        , 0.        , 0.        , 0.        ,\n",
       "       0.4       , 0.        , 0.        , 0.        , 0.        ,\n",
       "       0.        , 0.        , 0.        , 0.        , 0.        ,\n",
       "       0.        , 0.        , 0.        , 0.        , 0.        ,\n",
       "       0.        , 0.        , 0.        , 0.        , 0.        ,\n",
       "       0.        , 0.        , 0.        , 0.        , 0.        ,\n",
       "       0.        , 0.        , 0.        , 0.        , 0.        ,\n",
       "       0.        , 0.        , 0.        , 0.        , 0.        ,\n",
       "       0.        , 0.        , 0.        , 0.        , 0.        ,\n",
       "       0.        , 0.        , 0.        , 0.        , 0.        ,\n",
       "       0.        , 0.        , 0.        , 0.        , 0.        ,\n",
       "       0.        , 0.        , 0.4       , 0.        , 0.        ,\n",
       "       0.        , 0.        , 0.        , 0.        , 0.        ,\n",
       "       0.        , 0.        , 0.        , 0.4       , 0.4       ,\n",
       "       0.        , 0.        , 0.        , 0.        , 0.        ,\n",
       "       0.        , 0.        , 0.        , 0.        , 0.        ,\n",
       "       0.        , 0.        , 0.        , 0.        , 0.        ,\n",
       "       0.        , 0.        , 0.        , 0.        , 0.        ,\n",
       "       0.        , 0.        , 0.        , 0.        , 0.        ,\n",
       "       0.        , 0.        , 0.        , 0.        , 0.        ,\n",
       "       0.        , 0.        , 0.        , 0.        , 0.        ,\n",
       "       0.        , 0.        , 0.4       , 0.        , 0.        ,\n",
       "       0.        , 0.        , 0.        , 0.        , 0.        ,\n",
       "       0.        , 0.        , 0.        , 0.        , 0.        ,\n",
       "       0.        , 0.        , 0.        , 0.        , 0.        ,\n",
       "       0.        , 0.        , 0.        , 0.        , 0.        ,\n",
       "       0.        , 0.        , 0.        , 0.        , 0.        ,\n",
       "       0.        , 0.        , 0.        , 0.        , 0.        ,\n",
       "       0.        , 0.4       , 0.        , 0.        , 0.        ,\n",
       "       0.        , 0.        , 0.        , 0.        , 0.        ,\n",
       "       0.        , 0.        , 0.        , 0.        , 0.        ,\n",
       "       0.        , 0.        , 0.        , 0.        , 0.2236068 ,\n",
       "       0.        , 0.        , 0.        , 0.        , 0.        ,\n",
       "       0.        , 0.        , 0.        , 0.        , 0.        ,\n",
       "       0.        , 0.        , 0.        , 0.        , 0.        ,\n",
       "       0.        , 0.        , 0.        , 0.        , 0.        ,\n",
       "       0.        , 0.        , 0.        , 0.        ])"
      ]
     },
     "execution_count": 215,
     "metadata": {},
     "output_type": "execute_result"
    }
   ],
   "source": [
    "similarity[3]"
   ]
  },
  {
   "cell_type": "markdown",
   "metadata": {},
   "source": [
    "#### **Recommendation**"
   ]
  },
  {
   "cell_type": "code",
   "execution_count": 227,
   "metadata": {},
   "outputs": [],
   "source": [
    "def recommend(song):\n",
    "    song_index=songs[songs['music_name']==song].index[0]\n",
    "    distances=similarity[song_index]\n",
    "    song_list=sorted(list(enumerate(distances)), reverse=True, key=lambda x: x[1])\n",
    "    song_details={\n",
    "        'music_name':[],\n",
    "        'release':[],\n",
    "        'singer':[],\n",
    "        'thumbnail':[]\n",
    "    }\n",
    "    c=0\n",
    "    for i in song_list:\n",
    "        if(i[1]>=0.5 and i[1]!=1 and c<5):\n",
    "            c+=1\n",
    "            song_details['music_name'].append(songs.iloc[i[0]].music_name)\n",
    "            song_details['release'].append(songs.iloc[i[0]].release)\n",
    "            song_details['singer'].append(songs.iloc[i[0]].singer)\n",
    "            song_details['thumbnail'].append(songs.iloc[i[0]].thumbnail)\n",
    "    return song_details"
   ]
  },
  {
   "cell_type": "code",
   "execution_count": 228,
   "metadata": {},
   "outputs": [
    {
     "data": {
      "text/plain": [
       "{'music_name': ['Saathiya', 'Ishq Kamaal', 'Guzarish', 'Tu Dis Da', 'Angana'],\n",
       " 'release': [2022, 2020, 2014, 2022, 2020],\n",
       " 'singer': ['Javed Ali',\n",
       "  'Javed Ali',\n",
       "  'Javed Ali',\n",
       "  'Hamid Ali Naqeebi',\n",
       "  'Shreya Ghoshal, Javed Ali'],\n",
       " 'thumbnail': ['https://i.ytimg.com/vi/O79ciJI312g/hqdefault.jpg',\n",
       "  'https://i.ytimg.com/vi/iBSTR8HpjNA/hqdefault.jpg',\n",
       "  'https://i.ytimg.com/vi/ztPa6vkM-yY/hqdefault.jpg',\n",
       "  'https://i.ytimg.com/vi/_8JiKTGsiP4/hqdefault.jpg',\n",
       "  'https://i.ytimg.com/vi/DUaUlIXQt38/hqdefault.jpg']}"
      ]
     },
     "execution_count": 228,
     "metadata": {},
     "output_type": "execute_result"
    }
   ],
   "source": [
    "recommend('Saathiya')"
   ]
  },
  {
   "cell_type": "markdown",
   "metadata": {},
   "source": [
    "#### **Extract Similarity Array**"
   ]
  },
  {
   "cell_type": "code",
   "execution_count": 226,
   "metadata": {},
   "outputs": [],
   "source": [
    "with open('../Pickle/similarity.pkl', 'wb') as file:\n",
    "    pickle.dump(similarity, file)"
   ]
  }
 ],
 "metadata": {
  "kernelspec": {
   "display_name": "Python 3",
   "language": "python",
   "name": "python3"
  },
  "language_info": {
   "codemirror_mode": {
    "name": "ipython",
    "version": 3
   },
   "file_extension": ".py",
   "mimetype": "text/x-python",
   "name": "python",
   "nbconvert_exporter": "python",
   "pygments_lexer": "ipython3",
   "version": "3.11.1"
  }
 },
 "nbformat": 4,
 "nbformat_minor": 2
}
